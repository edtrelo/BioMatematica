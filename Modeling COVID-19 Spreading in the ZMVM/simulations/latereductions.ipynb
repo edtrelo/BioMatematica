{
 "cells": [
  {
   "cell_type": "code",
   "execution_count": 1,
   "id": "73cd6b48",
   "metadata": {},
   "outputs": [],
   "source": [
    "import sys\n",
    "sys.path.insert(1, \"D:/Edgar Trejo/Universidad/BioMatematica/Modeling COVID-19 Spreading in the ZMVM/mathematics\")\n",
    "import datosporregion as dpr\n",
    "import model"
   ]
  },
  {
   "cell_type": "code",
   "execution_count": 7,
   "id": "8f1a6f0e",
   "metadata": {},
   "outputs": [],
   "source": [
    "import pandas as pd"
   ]
  },
  {
   "cell_type": "code",
   "execution_count": 2,
   "id": "f7bfa814",
   "metadata": {},
   "outputs": [],
   "source": [
    "import simulaciones"
   ]
  },
  {
   "cell_type": "code",
   "execution_count": 8,
   "id": "4c7cc4e4",
   "metadata": {},
   "outputs": [],
   "source": [
    "df = pd.DataFrame()\n",
    "\n",
    "for i in range(10):\n",
    "    dfnew = simulaciones.simularReduccionTrafico(red = [0.2], sem_ini = i)\n",
    "    df = pd.concat([df, dfnew], axis = 1)"
   ]
  },
  {
   "cell_type": "code",
   "execution_count": 9,
   "id": "4854f071",
   "metadata": {},
   "outputs": [
    {
     "data": {
      "text/html": [
       "<div>\n",
       "<style scoped>\n",
       "    .dataframe tbody tr th:only-of-type {\n",
       "        vertical-align: middle;\n",
       "    }\n",
       "\n",
       "    .dataframe tbody tr th {\n",
       "        vertical-align: top;\n",
       "    }\n",
       "\n",
       "    .dataframe thead th {\n",
       "        text-align: right;\n",
       "    }\n",
       "</style>\n",
       "<table border=\"1\" class=\"dataframe\">\n",
       "  <thead>\n",
       "    <tr style=\"text-align: right;\">\n",
       "      <th></th>\n",
       "      <th>0.2</th>\n",
       "      <th>0.2</th>\n",
       "      <th>0.2</th>\n",
       "      <th>0.2</th>\n",
       "      <th>0.2</th>\n",
       "      <th>0.2</th>\n",
       "      <th>0.2</th>\n",
       "      <th>0.2</th>\n",
       "      <th>0.2</th>\n",
       "      <th>0.2</th>\n",
       "    </tr>\n",
       "  </thead>\n",
       "  <tbody>\n",
       "    <tr>\n",
       "      <th>0</th>\n",
       "      <td>0.652660</td>\n",
       "      <td>0.543618</td>\n",
       "      <td>0.463245</td>\n",
       "      <td>0.388171</td>\n",
       "      <td>0.304773</td>\n",
       "      <td>0.238909</td>\n",
       "      <td>0.170865</td>\n",
       "      <td>0.104758</td>\n",
       "      <td>0.054388</td>\n",
       "      <td>0.024582</td>\n",
       "    </tr>\n",
       "    <tr>\n",
       "      <th>1</th>\n",
       "      <td>0.532049</td>\n",
       "      <td>0.467433</td>\n",
       "      <td>0.407804</td>\n",
       "      <td>0.345825</td>\n",
       "      <td>0.268935</td>\n",
       "      <td>0.204096</td>\n",
       "      <td>0.132768</td>\n",
       "      <td>0.067290</td>\n",
       "      <td>0.030472</td>\n",
       "      <td>0.012742</td>\n",
       "    </tr>\n",
       "    <tr>\n",
       "      <th>2</th>\n",
       "      <td>0.737875</td>\n",
       "      <td>0.630499</td>\n",
       "      <td>0.552893</td>\n",
       "      <td>0.478797</td>\n",
       "      <td>0.391799</td>\n",
       "      <td>0.319498</td>\n",
       "      <td>0.237872</td>\n",
       "      <td>0.147898</td>\n",
       "      <td>0.076231</td>\n",
       "      <td>0.033489</td>\n",
       "    </tr>\n",
       "    <tr>\n",
       "      <th>3</th>\n",
       "      <td>0.548312</td>\n",
       "      <td>0.488363</td>\n",
       "      <td>0.429376</td>\n",
       "      <td>0.364018</td>\n",
       "      <td>0.284480</td>\n",
       "      <td>0.219797</td>\n",
       "      <td>0.150521</td>\n",
       "      <td>0.083617</td>\n",
       "      <td>0.039798</td>\n",
       "      <td>0.016861</td>\n",
       "    </tr>\n",
       "    <tr>\n",
       "      <th>4</th>\n",
       "      <td>0.706424</td>\n",
       "      <td>0.590582</td>\n",
       "      <td>0.506318</td>\n",
       "      <td>0.428431</td>\n",
       "      <td>0.341431</td>\n",
       "      <td>0.271849</td>\n",
       "      <td>0.197142</td>\n",
       "      <td>0.119270</td>\n",
       "      <td>0.059605</td>\n",
       "      <td>0.026027</td>\n",
       "    </tr>\n",
       "    <tr>\n",
       "      <th>5</th>\n",
       "      <td>0.591976</td>\n",
       "      <td>0.554856</td>\n",
       "      <td>0.516351</td>\n",
       "      <td>0.468094</td>\n",
       "      <td>0.395743</td>\n",
       "      <td>0.330011</td>\n",
       "      <td>0.254473</td>\n",
       "      <td>0.171235</td>\n",
       "      <td>0.099348</td>\n",
       "      <td>0.047297</td>\n",
       "    </tr>\n",
       "    <tr>\n",
       "      <th>6</th>\n",
       "      <td>0.418809</td>\n",
       "      <td>0.306252</td>\n",
       "      <td>0.232810</td>\n",
       "      <td>0.169344</td>\n",
       "      <td>0.104570</td>\n",
       "      <td>0.059206</td>\n",
       "      <td>0.024732</td>\n",
       "      <td>0.011127</td>\n",
       "      <td>0.006167</td>\n",
       "      <td>0.002570</td>\n",
       "    </tr>\n",
       "    <tr>\n",
       "      <th>7</th>\n",
       "      <td>0.732443</td>\n",
       "      <td>0.624060</td>\n",
       "      <td>0.545954</td>\n",
       "      <td>0.471961</td>\n",
       "      <td>0.385180</td>\n",
       "      <td>0.313058</td>\n",
       "      <td>0.231822</td>\n",
       "      <td>0.143641</td>\n",
       "      <td>0.074677</td>\n",
       "      <td>0.033049</td>\n",
       "    </tr>\n",
       "  </tbody>\n",
       "</table>\n",
       "</div>"
      ],
      "text/plain": [
       "        0.2       0.2       0.2       0.2       0.2       0.2       0.2  \\\n",
       "0  0.652660  0.543618  0.463245  0.388171  0.304773  0.238909  0.170865   \n",
       "1  0.532049  0.467433  0.407804  0.345825  0.268935  0.204096  0.132768   \n",
       "2  0.737875  0.630499  0.552893  0.478797  0.391799  0.319498  0.237872   \n",
       "3  0.548312  0.488363  0.429376  0.364018  0.284480  0.219797  0.150521   \n",
       "4  0.706424  0.590582  0.506318  0.428431  0.341431  0.271849  0.197142   \n",
       "5  0.591976  0.554856  0.516351  0.468094  0.395743  0.330011  0.254473   \n",
       "6  0.418809  0.306252  0.232810  0.169344  0.104570  0.059206  0.024732   \n",
       "7  0.732443  0.624060  0.545954  0.471961  0.385180  0.313058  0.231822   \n",
       "\n",
       "        0.2       0.2       0.2  \n",
       "0  0.104758  0.054388  0.024582  \n",
       "1  0.067290  0.030472  0.012742  \n",
       "2  0.147898  0.076231  0.033489  \n",
       "3  0.083617  0.039798  0.016861  \n",
       "4  0.119270  0.059605  0.026027  \n",
       "5  0.171235  0.099348  0.047297  \n",
       "6  0.011127  0.006167  0.002570  \n",
       "7  0.143641  0.074677  0.033049  "
      ]
     },
     "execution_count": 9,
     "metadata": {},
     "output_type": "execute_result"
    }
   ],
   "source": [
    "df"
   ]
  },
  {
   "cell_type": "code",
   "execution_count": 10,
   "id": "5648c104",
   "metadata": {},
   "outputs": [],
   "source": [
    "import matplotlib.pyplot as plt"
   ]
  },
  {
   "cell_type": "code",
   "execution_count": 12,
   "id": "28c023b9",
   "metadata": {},
   "outputs": [
    {
     "data": {
      "image/png": "[encoded data removed]",
      "text/plain": [
       "<Figure size 432x288 with 1 Axes>"
      ]
     },
     "metadata": {
      "needs_background": "light"
     },
     "output_type": "display_data"
    }
   ],
   "source": [
    "fig, ax = plt.subplots()\n",
    "\n",
    "for i in range(8):\n",
    "    ax.plot(range(10), df.iloc[i], label = 'region {}'.format(i+1))\n",
    "    \n",
    "plt.legend()\n",
    "plt.show()"
   ]
  }
 ],
 "metadata": {
  "kernelspec": {
   "display_name": "Python 3 (ipykernel)",
   "language": "python",
   "name": "python3"
  },
  "language_info": {
   "codemirror_mode": {
    "name": "ipython",
    "version": 3
   },
   "file_extension": ".py",
   "mimetype": "text/x-python",
   "name": "python",
   "nbconvert_exporter": "python",
   "pygments_lexer": "ipython3",
   "version": "3.8.3"
  }
 },
 "nbformat": 4,
 "nbformat_minor": 5
}
