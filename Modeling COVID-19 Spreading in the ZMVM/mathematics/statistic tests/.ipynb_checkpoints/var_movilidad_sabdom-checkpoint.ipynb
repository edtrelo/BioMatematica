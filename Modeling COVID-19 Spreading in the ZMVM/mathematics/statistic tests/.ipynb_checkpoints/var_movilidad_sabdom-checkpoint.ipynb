{
 "cells": [
  {
   "cell_type": "code",
   "execution_count": 1,
   "id": "07752298",
   "metadata": {},
   "outputs": [],
   "source": [
    "import pandas as pd\n",
    "import numpy as np\n",
    "import matplotlib.pyplot as plt\n",
    "from scipy import stats, optimize"
   ]
  },
  {
   "cell_type": "markdown",
   "id": "471d322b",
   "metadata": {},
   "source": [
    "Queremos estudiar cómo se comportan los viajes en domingo respecto a los viajes en sábado, para esto vamos a usar los datos del STC metro:"
   ]
  },
  {
   "cell_type": "code",
   "execution_count": 2,
   "id": "c9869933",
   "metadata": {},
   "outputs": [],
   "source": [
    "datametro = pd.read_csv(\"D:/Edgar Trejo/Universidad/BioMatematica/Modeling COVID-19 Spreading in the ZMVM/data/rawdata/afluenciastc_simple_02_2023.csv\",\n",
    "                       parse_dates = [0], encoding = 'latin')"
   ]
  },
  {
   "cell_type": "markdown",
   "id": "e4e6ab28",
   "metadata": {},
   "source": [
    "La EOD fue hecha en el año 2017, por ello usaremos los datos del metro de ese mismo año."
   ]
  },
  {
   "cell_type": "code",
   "execution_count": 3,
   "id": "9e22cbe8",
   "metadata": {},
   "outputs": [],
   "source": [
    "datametro = datametro[(\"2017-01-01\" <= datametro['fecha'])&( datametro['fecha'] <= \"2017-12-31\")]"
   ]
  },
  {
   "cell_type": "markdown",
   "id": "5ce40756",
   "metadata": {},
   "source": [
    "Agrupamos los datos por fecha y sumamos la afluencia de cada estación:"
   ]
  },
  {
   "cell_type": "code",
   "execution_count": 4,
   "id": "7cdb3b8e",
   "metadata": {},
   "outputs": [],
   "source": [
    "afluenciaporfecha = datametro.groupby(\"fecha\")[['afluencia']].sum()"
   ]
  },
  {
   "cell_type": "markdown",
   "id": "6ffcfddf",
   "metadata": {},
   "source": [
    "Obtenemos el día de la semana correspondiente a la fecha (lunes = 0, ...)"
   ]
  },
  {
   "cell_type": "code",
   "execution_count": 5,
   "id": "3d309980",
   "metadata": {},
   "outputs": [],
   "source": [
    "afluenciaporfecha['wd'] = afluenciaporfecha.index.dayofweek"
   ]
  },
  {
   "cell_type": "markdown",
   "id": "2515e2b0",
   "metadata": {},
   "source": [
    "Filtramos los datos de afluencia para los días sábado y domingo."
   ]
  },
  {
   "cell_type": "code",
   "execution_count": 6,
   "id": "f9cbc7d9",
   "metadata": {},
   "outputs": [],
   "source": [
    "afluencia_sabdom = afluenciaporfecha[afluenciaporfecha.wd.isin([5, 6])]"
   ]
  },
  {
   "cell_type": "markdown",
   "id": "495240ec",
   "metadata": {},
   "source": [
    "Queremos emparejar los sábados y domingos de la misma semana. Podemos notar que el primer domingo no tiene un sábado para emparejar, por lo tanto eliminamos ese primer dato."
   ]
  },
  {
   "cell_type": "code",
   "execution_count": 7,
   "id": "43e3999c",
   "metadata": {},
   "outputs": [],
   "source": [
    "afluencia_sabdom = afluencia_sabdom.iloc[1:]"
   ]
  },
  {
   "cell_type": "markdown",
   "id": "e607010a",
   "metadata": {},
   "source": [
    "Los datos están ordenados por sus fechas. Creamos una lista con la semana correspondiente de cada par sábado-domingo y creamos una nueva columna en el data frame con esta."
   ]
  },
  {
   "cell_type": "code",
   "execution_count": 10,
   "id": "45228e79",
   "metadata": {},
   "outputs": [],
   "source": [
    "weeks = []\n",
    "for i in range(52):\n",
    "    weeks.extend([i, i])\n",
    "\n",
    "afluencia_sabdom['week'] = weeks"
   ]
  },
  {
   "cell_type": "markdown",
   "id": "071c6266",
   "metadata": {},
   "source": [
    "Pivoteamos el dataframe de forma que las columnas correspondan al tipo de día y los valores sean las afluencias registradas en cada semana."
   ]
  },
  {
   "cell_type": "code",
   "execution_count": 11,
   "id": "e39b1e98",
   "metadata": {},
   "outputs": [],
   "source": [
    "afluenciaporsemana = afluencia_sabdom.pivot(columns = \"wd\", index = \"week\", values = \"afluencia\")\n",
    "afluenciaporsemana.rename(columns = {5:'sab', 6:'dom'}, inplace = True)"
   ]
  },
  {
   "cell_type": "code",
   "execution_count": 13,
   "id": "cf1d1f0d",
   "metadata": {},
   "outputs": [
    {
     "data": {
      "text/html": [
       "<div>\n",
       "<style scoped>\n",
       "    .dataframe tbody tr th:only-of-type {\n",
       "        vertical-align: middle;\n",
       "    }\n",
       "\n",
       "    .dataframe tbody tr th {\n",
       "        vertical-align: top;\n",
       "    }\n",
       "\n",
       "    .dataframe thead th {\n",
       "        text-align: right;\n",
       "    }\n",
       "</style>\n",
       "<table border=\"1\" class=\"dataframe\">\n",
       "  <thead>\n",
       "    <tr style=\"text-align: right;\">\n",
       "      <th>wd</th>\n",
       "      <th>sab</th>\n",
       "      <th>dom</th>\n",
       "    </tr>\n",
       "    <tr>\n",
       "      <th>week</th>\n",
       "      <th></th>\n",
       "      <th></th>\n",
       "    </tr>\n",
       "  </thead>\n",
       "  <tbody>\n",
       "    <tr>\n",
       "      <th>0</th>\n",
       "      <td>3687821</td>\n",
       "      <td>2447948</td>\n",
       "    </tr>\n",
       "    <tr>\n",
       "      <th>1</th>\n",
       "      <td>4169682</td>\n",
       "      <td>2776097</td>\n",
       "    </tr>\n",
       "    <tr>\n",
       "      <th>2</th>\n",
       "      <td>4221637</td>\n",
       "      <td>2652035</td>\n",
       "    </tr>\n",
       "    <tr>\n",
       "      <th>3</th>\n",
       "      <td>4332793</td>\n",
       "      <td>2672735</td>\n",
       "    </tr>\n",
       "    <tr>\n",
       "      <th>4</th>\n",
       "      <td>4222117</td>\n",
       "      <td>2632123</td>\n",
       "    </tr>\n",
       "  </tbody>\n",
       "</table>\n",
       "</div>"
      ],
      "text/plain": [
       "wd        sab      dom\n",
       "week                  \n",
       "0     3687821  2447948\n",
       "1     4169682  2776097\n",
       "2     4221637  2652035\n",
       "3     4332793  2672735\n",
       "4     4222117  2632123"
      ]
     },
     "execution_count": 13,
     "metadata": {},
     "output_type": "execute_result"
    }
   ],
   "source": [
    "afluenciaporsemana.head()"
   ]
  },
  {
   "cell_type": "markdown",
   "id": "aefbdace",
   "metadata": {},
   "source": [
    "Si vemos el boxplot de los datos, notamos la existencia de muchos outliers."
   ]
  },
  {
   "cell_type": "code",
   "execution_count": 15,
   "id": "c0b31fbd",
   "metadata": {},
   "outputs": [
    {
     "data": {
      "image/png": "[encoded data removed]",
      "text/plain": [
       "<Figure size 432x288 with 1 Axes>"
      ]
     },
     "metadata": {
      "needs_background": "light"
     },
     "output_type": "display_data"
    }
   ],
   "source": [
    "fig, ax = plt.subplots()\n",
    "\n",
    "afluenciaporsemana.boxplot(ax = ax)\n",
    "ax.set_ylabel(\"Afluencia de usuarios del Metro\")\n",
    "\n",
    "plt.show()"
   ]
  },
  {
   "cell_type": "markdown",
   "id": "8d9e5357",
   "metadata": {},
   "source": [
    "Queremos eliminar los registros de las semanas que presentan estos valores atípicos para alguno de los dos días. "
   ]
  },
  {
   "cell_type": "code",
   "execution_count": 16,
   "id": "9f75709a",
   "metadata": {},
   "outputs": [],
   "source": [
    "# funciones para obtenemos los cuantiles Q1, Q3\n",
    "q1 = lambda x: np.quantile(x, 0.25)\n",
    "q3 = lambda x: np.quantile(x, 0.75)"
   ]
  },
  {
   "cell_type": "code",
   "execution_count": 17,
   "id": "e7ec8967",
   "metadata": {},
   "outputs": [],
   "source": [
    "# obtenemos el rango intercuantil de cada columna\n",
    "sabiqr, domiqr = afluenciaporsemana.apply(stats.iqr)\n",
    "# obtenemos los cuantiles Q1 y Q3 de cada columna\n",
    "sq1, dq1 = afluenciaporsemana.apply(q1)\n",
    "sq3, dq3 = afluenciaporsemana.apply(q3)"
   ]
  },
  {
   "cell_type": "code",
   "execution_count": 18,
   "id": "fe5c9303",
   "metadata": {},
   "outputs": [],
   "source": [
    "# obtenemos los rangos intercuantiles de cada día\n",
    "sabriqr = (sq1 - 1.5*sabiqr, sq3 + 1.5*sabiqr)\n",
    "domriqr = (dq1 - 1.5*domiqr, dq3 + 1.5*domiqr)"
   ]
  },
  {
   "cell_type": "markdown",
   "id": "addcb55d",
   "metadata": {},
   "source": [
    "Ya con los rangos intercuantiles de cada tipo de día, filtramos los registros que estén dentro del rango típico de los datos."
   ]
  },
  {
   "cell_type": "code",
   "execution_count": 20,
   "id": "29391ffd",
   "metadata": {},
   "outputs": [],
   "source": [
    "# quitamos los registros que presenten afluencias atípicas en sábado\n",
    "filtradossab = afluenciaporsemana[(afluenciaporsemana['sab'] >= sabriqr[0]) & (afluenciaporsemana['sab'] <= sabriqr[1])]\n",
    "# quitamos los registros que presenten afluencias atípicas en domingo\n",
    "filtrado = filtradossab[(filtradossab['dom'] >= domriqr[0]) & (filtradossab['dom'] <= domriqr[1])]"
   ]
  },
  {
   "cell_type": "markdown",
   "id": "d691c9f6",
   "metadata": {},
   "source": [
    "Veamos el gráfico de dispersión de los datos sin outliers."
   ]
  },
  {
   "cell_type": "code",
   "execution_count": 23,
   "id": "15bebdfa",
   "metadata": {},
   "outputs": [
    {
     "data": {
      "image/png": "[encoded data removed]",
      "text/plain": [
       "<Figure size 432x288 with 1 Axes>"
      ]
     },
     "metadata": {
      "needs_background": "light"
     },
     "output_type": "display_data"
    }
   ],
   "source": [
    "fig, ax = plt.subplots()\n",
    "\n",
    "filtrado.plot.scatter(x = 'sab', y = 'dom', ax = ax)\n",
    "ax.set_xlabel(\"Afluencia en Metro en Sábado\")\n",
    "ax.set_ylabel(\"Afluencia en Metro en Domingo\")\n",
    "\n",
    "plt.show()"
   ]
  },
  {
   "cell_type": "markdown",
   "id": "4f396ff4",
   "metadata": {},
   "source": [
    "Supongamos que $y = \\beta x + \\varepsilon$, donde $\\varepsilon$ es una variable aleatoria. "
   ]
  },
  {
   "cell_type": "markdown",
   "id": "3e3a1c4a",
   "metadata": {},
   "source": [
    "Obtenemos el ajuste de la recta:"
   ]
  },
  {
   "cell_type": "code",
   "execution_count": 58,
   "id": "f3dfedff",
   "metadata": {},
   "outputs": [],
   "source": [
    "ajuste = optimize.curve_fit(lambda x, b: b*x, xdata = filtrado['sab'], ydata = filtrado['dom'])\n",
    "β = ajuste[0][0]"
   ]
  },
  {
   "cell_type": "code",
   "execution_count": 59,
   "id": "0c433abf",
   "metadata": {},
   "outputs": [
    {
     "data": {
      "image/png": "[encoded data removed]",
      "text/plain": [
       "<Figure size 432x288 with 1 Axes>"
      ]
     },
     "metadata": {
      "needs_background": "light"
     },
     "output_type": "display_data"
    }
   ],
   "source": [
    "plt.scatter(filtrado['sab'], filtrado['dom'])\n",
    "t = np.linspace(filtrado['sab'].min(), filtrado['sab'].max(), 100)\n",
    "plt.plot(t, β*t)\n",
    "\n",
    "plt.show()"
   ]
  },
  {
   "cell_type": "markdown",
   "id": "565697ac",
   "metadata": {},
   "source": [
    "Calculamos los errores de la aproximación lineal:"
   ]
  },
  {
   "cell_type": "code",
   "execution_count": 60,
   "id": "0700d1ba",
   "metadata": {},
   "outputs": [],
   "source": [
    "# valores predichos por el modelo lineal\n",
    "ajuste = β*filtrado['sab']\n",
    "# errores respecto a los datos reales\n",
    "errores = filtrado['dom'] - ajuste "
   ]
  },
  {
   "cell_type": "code",
   "execution_count": 61,
   "id": "c83d3544",
   "metadata": {},
   "outputs": [
    {
     "data": {
      "image/png": "[encoded data removed]",
      "text/plain": [
       "<Figure size 1080x432 with 2 Axes>"
      ]
     },
     "metadata": {
      "needs_background": "light"
     },
     "output_type": "display_data"
    }
   ],
   "source": [
    "fig, ax = plt.subplots(1, 2)\n",
    "ax[0].hist(errores, density = True)\n",
    "stats.probplot(errores, dist=\"norm\", plot = ax[1])\n",
    "\n",
    "fig.set_size_inches(15, 6)\n",
    "plt.show()"
   ]
  },
  {
   "cell_type": "markdown",
   "id": "a50fcf62",
   "metadata": {},
   "source": [
    "Vamos a suponer que los errores se distribuyen de manera normal. Vamos a realizar una serie de pruebas estadísticas:"
   ]
  },
  {
   "cell_type": "code",
   "execution_count": 62,
   "id": "385ea72c",
   "metadata": {},
   "outputs": [],
   "source": [
    "# media y desv. estándar de la muestra\n",
    "μ = errores.mean()\n",
    "σ = errores.std()\n",
    "k = len(errores) # tamaño de muestra"
   ]
  },
  {
   "cell_type": "markdown",
   "id": "e7cb7af6",
   "metadata": {},
   "source": [
    "Realizamos dos pruebas: Una Shapiro-Wilk y otra Kolmogorov-Smirnov."
   ]
  },
  {
   "cell_type": "code",
   "execution_count": 63,
   "id": "65cd3287",
   "metadata": {},
   "outputs": [
    {
     "data": {
      "text/plain": [
       "ShapiroResult(statistic=0.9474961757659912, pvalue=0.06220554932951927)"
      ]
     },
     "execution_count": 63,
     "metadata": {},
     "output_type": "execute_result"
    }
   ],
   "source": [
    "stats.shapiro(errores)"
   ]
  },
  {
   "cell_type": "code",
   "execution_count": 64,
   "id": "1cb64858",
   "metadata": {},
   "outputs": [
    {
     "data": {
      "text/plain": [
       "KstestResult(statistic=0.10231207453715152, pvalue=0.7584211384462559)"
      ]
     },
     "execution_count": 64,
     "metadata": {},
     "output_type": "execute_result"
    }
   ],
   "source": [
    "stats.kstest(errores, stats.norm.cdf, args=(μ,σ))"
   ]
  },
  {
   "cell_type": "markdown",
   "id": "4f513cfd",
   "metadata": {},
   "source": [
    "El $p-$value de ambas pruebas es mayor a la significancia de $\\alpha = 0.05$, por lo que no hay por qué rechazar nuestra hipótesis"
   ]
  },
  {
   "cell_type": "markdown",
   "id": "fcb6049b",
   "metadata": {},
   "source": [
    "Si $\\mu^e$ es la media muestral de los errores y $\\sigma^e$ es la d.e. de los erroes, entonces $$a_d = \\beta a_s + \\varepsilon $$\n",
    "\n",
    "donde $\\varepsilon \\sim \\mathcal N(\\mu^e,\\ \\sigma^e)$."
   ]
  }
 ],
 "metadata": {
  "kernelspec": {
   "display_name": "Python 3 (ipykernel)",
   "language": "python",
   "name": "python3"
  },
  "language_info": {
   "codemirror_mode": {
    "name": "ipython",
    "version": 3
   },
   "file_extension": ".py",
   "mimetype": "text/x-python",
   "name": "python",
   "nbconvert_exporter": "python",
   "pygments_lexer": "ipython3",
   "version": "3.8.3"
  }
 },
 "nbformat": 4,
 "nbformat_minor": 5
}
