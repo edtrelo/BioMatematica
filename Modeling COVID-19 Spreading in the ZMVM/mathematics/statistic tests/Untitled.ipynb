{
 "cells": [
  {
   "cell_type": "code",
   "execution_count": 2,
   "id": "d2a67ca1",
   "metadata": {},
   "outputs": [],
   "source": [
    "import pandas as pd\n",
    "from scipy import stats"
   ]
  },
  {
   "cell_type": "code",
   "execution_count": 3,
   "id": "6393c6e1",
   "metadata": {},
   "outputs": [],
   "source": [
    "data = pd.read_csv('https://raw.githubusercontent.com/edtrelo/BioMatematica/main/Modeling%20COVID-19%20Spreading%20in%20the%20ZMVM/data/rawdata/afluenciastc_simple_02_2023.csv',\n",
    "                  encoding = 'latin', parse_dates = ['fecha'])"
   ]
  },
  {
   "cell_type": "code",
   "execution_count": 6,
   "id": "e8f97ac5",
   "metadata": {},
   "outputs": [],
   "source": [
    "datainicios2020 = data[((data.fecha) >= \"2020-01-01\") & (data.fecha <= '2020-02-27')]"
   ]
  },
  {
   "cell_type": "code",
   "execution_count": 7,
   "id": "8769ed88",
   "metadata": {},
   "outputs": [],
   "source": [
    "datasanadistancia = data[((data.fecha) >= \"2020-04-01\") & (data.fecha <= '2020-06-06')]"
   ]
  },
  {
   "cell_type": "code",
   "execution_count": 13,
   "id": "3828af41",
   "metadata": {},
   "outputs": [],
   "source": [
    "A  = datainicios2020.groupby(['fecha', 'estacion'])['afluencia'].mean().mean()"
   ]
  },
  {
   "cell_type": "code",
   "execution_count": 18,
   "id": "ebae3520",
   "metadata": {
    "scrolled": true
   },
   "outputs": [
    {
     "data": {
      "text/plain": [
       "22619.2207002327"
      ]
     },
     "execution_count": 18,
     "metadata": {},
     "output_type": "execute_result"
    }
   ],
   "source": [
    "A"
   ]
  },
  {
   "cell_type": "code",
   "execution_count": 14,
   "id": "d5e7dce0",
   "metadata": {},
   "outputs": [],
   "source": [
    "B = datasanadistancia.groupby(['fecha', 'estacion'])['afluencia'].mean().mean()"
   ]
  },
  {
   "cell_type": "code",
   "execution_count": 19,
   "id": "932e9e63",
   "metadata": {},
   "outputs": [
    {
     "data": {
      "text/plain": [
       "6573.401909165827"
      ]
     },
     "execution_count": 19,
     "metadata": {},
     "output_type": "execute_result"
    }
   ],
   "source": [
    "B"
   ]
  },
  {
   "cell_type": "code",
   "execution_count": 28,
   "id": "bf68aada",
   "metadata": {},
   "outputs": [
    {
     "data": {
      "text/plain": [
       "6785.700000000001"
      ]
     },
     "execution_count": 28,
     "metadata": {},
     "output_type": "execute_result"
    }
   ],
   "source": [
    "22619 * (1-0.7)"
   ]
  },
  {
   "cell_type": "code",
   "execution_count": 24,
   "id": "570724ac",
   "metadata": {},
   "outputs": [
    {
     "data": {
      "text/plain": [
       "3.4410220176394337"
      ]
     },
     "execution_count": 24,
     "metadata": {},
     "output_type": "execute_result"
    }
   ],
   "source": [
    "1/r"
   ]
  },
  {
   "cell_type": "code",
   "execution_count": null,
   "id": "19130c4c",
   "metadata": {},
   "outputs": [],
   "source": [
    "r*"
   ]
  },
  {
   "cell_type": "code",
   "execution_count": 17,
   "id": "651323a0",
   "metadata": {},
   "outputs": [
    {
     "data": {
      "text/plain": [
       "MannwhitneyuResult(statistic=20879049.0, pvalue=0.0)"
      ]
     },
     "execution_count": 17,
     "metadata": {},
     "output_type": "execute_result"
    }
   ],
   "source": [
    "stats.mannwhitneyu(datasanadistancia['afluencia'], datainicios2020['afluencia'], alternative='less')"
   ]
  },
  {
   "cell_type": "code",
   "execution_count": 19,
   "id": "04185032",
   "metadata": {},
   "outputs": [
    {
     "data": {
      "text/plain": [
       "KruskalResult(statistic=9362.109449941803, pvalue=0.0)"
      ]
     },
     "execution_count": 19,
     "metadata": {},
     "output_type": "execute_result"
    }
   ],
   "source": [
    "stats.kruskal(datasanadistancia['afluencia'], datainicios2020['afluencia'])"
   ]
  }
 ],
 "metadata": {
  "kernelspec": {
   "display_name": "Python 3 (ipykernel)",
   "language": "python",
   "name": "python3"
  },
  "language_info": {
   "codemirror_mode": {
    "name": "ipython",
    "version": 3
   },
   "file_extension": ".py",
   "mimetype": "text/x-python",
   "name": "python",
   "nbconvert_exporter": "python",
   "pygments_lexer": "ipython3",
   "version": "3.8.3"
  }
 },
 "nbformat": 4,
 "nbformat_minor": 5
}
