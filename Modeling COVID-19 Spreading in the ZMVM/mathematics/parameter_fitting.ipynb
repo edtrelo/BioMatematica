{
 "cells": [
  {
   "cell_type": "markdown",
   "id": "f65c4e13",
   "metadata": {},
   "source": [
    "## Ajuste de los parámetros del modelo a datos reales de defunciones"
   ]
  },
  {
   "cell_type": "code",
   "execution_count": 7,
   "id": "3d2b587d",
   "metadata": {},
   "outputs": [],
   "source": [
    "import pandas as pd\n",
    "import numpy as np\n",
    "import matplotlib.pyplot as plt\n",
    "import pickle "
   ]
  },
  {
   "cell_type": "code",
   "execution_count": 2,
   "id": "937aed24",
   "metadata": {},
   "outputs": [],
   "source": [
    "import datosporregion as dpr\n",
    "from model import SEIRDmodel"
   ]
  },
  {
   "cell_type": "markdown",
   "id": "3f26f90c",
   "metadata": {},
   "source": [
    "Cargamos los datos que queremos usar (totales, por entidad, cdmx):"
   ]
  },
  {
   "cell_type": "code",
   "execution_count": 3,
   "id": "fcc486d9",
   "metadata": {},
   "outputs": [],
   "source": [
    "viajes = dpr.viajes_regiones()\n",
    "casos = dpr.casos_regiones()"
   ]
  },
  {
   "cell_type": "code",
   "execution_count": 4,
   "id": "1000afa4",
   "metadata": {},
   "outputs": [],
   "source": [
    "modelo = SEIRDmodel(viajes, casos)"
   ]
  },
  {
   "cell_type": "markdown",
   "id": "754ddfeb",
   "metadata": {},
   "source": [
    "La siguiente línea de código es la que debería correrse para realizar el ajuste."
   ]
  },
  {
   "cell_type": "code",
   "execution_count": 5,
   "id": "331a6743",
   "metadata": {},
   "outputs": [],
   "source": [
    "#ajuste = modelo.ajustar()"
   ]
  },
  {
   "cell_type": "code",
   "execution_count": 6,
   "id": "aa322b82",
   "metadata": {},
   "outputs": [
    {
     "data": {
      "text/plain": [
       "array([5.43375390e-05, 1.17328956e-01, 3.81690558e-01, 2.46371624e-01,\n",
       "       2.90963117e-01, 2.26120157e-01, 1.35486514e-01, 5.89313220e-01,\n",
       "       2.40834896e-01])"
      ]
     },
     "execution_count": 6,
     "metadata": {},
     "output_type": "execute_result"
    }
   ],
   "source": [
    "ajuste"
   ]
  },
  {
   "cell_type": "code",
   "execution_count": 8,
   "id": "b6b1d69d",
   "metadata": {},
   "outputs": [],
   "source": [
    "with open('D:/Edgar Trejo/Universidad/BioMatematica/Modeling COVID-19 Spreading in the ZMVM/results/ajuste8regiones.pkl', 'wb') as handle:\n",
    "    pickle.dump(ajuste, handle, protocol=pickle.HIGHEST_PROTOCOL)"
   ]
  },
  {
   "cell_type": "code",
   "execution_count": 9,
   "id": "ba759589",
   "metadata": {},
   "outputs": [],
   "source": [
    "ynor = modelo.simular()"
   ]
  },
  {
   "cell_type": "code",
   "execution_count": 13,
   "id": "5ecb8a3f",
   "metadata": {},
   "outputs": [
    {
     "data": {
      "text/plain": [
       "array([1983890, 3209181, 4080608, 3252076, 2468139,  830660, 2642603,\n",
       "       2406496], dtype=int64)"
      ]
     },
     "execution_count": 13,
     "metadata": {},
     "output_type": "execute_result"
    }
   ],
   "source": [
    "modelo.poblaciones"
   ]
  },
  {
   "cell_type": "code",
   "execution_count": 19,
   "id": "9e8fbbaa",
   "metadata": {},
   "outputs": [
    {
     "data": {
      "text/plain": [
       "array([[0.00000000e+00, 3.44839370e-04, 1.48523219e-03, 3.61407096e-03,\n",
       "        6.98008606e-03, 1.19148651e-02, 1.88665033e-02, 2.84329296e-02,\n",
       "        4.14295729e-02, 5.90347359e-02, 8.28354840e-02, 1.15004196e-01,\n",
       "        1.58575244e-01, 2.18164974e-01, 3.00061942e-01, 4.12971685e-01,\n",
       "        5.68651993e-01, 7.85322444e-01, 1.08995956e+00, 1.51842348e+00,\n",
       "        2.12203217e+00, 2.97006545e+00, 4.17367473e+00, 5.89377482e+00,\n",
       "        8.34391332e+00, 1.18314437e+01, 1.67841327e+01, 2.38832752e+01,\n",
       "        3.40896518e+01, 4.86961495e+01, 6.95491790e+01, 9.93642704e+01,\n",
       "        1.42293472e+02, 2.03966806e+02, 2.92328332e+02, 4.18531997e+02,\n",
       "        5.99763235e+02, 8.60311817e+02, 1.23311531e+03, 1.76483284e+03,\n",
       "        2.52350355e+03, 3.60624332e+03, 5.14157331e+03, 7.30628994e+03,\n",
       "        1.03342819e+04, 1.45310764e+04, 2.02739187e+04, 2.79999264e+04,\n",
       "        3.81800734e+04, 5.12320191e+04, 6.75078928e+04, 8.72230130e+04,\n",
       "        1.10307342e+05, 1.36500284e+05, 1.65363426e+05, 1.96280540e+05,\n",
       "        2.28619474e+05, 2.61611623e+05, 2.94439589e+05, 3.26461238e+05,\n",
       "        3.57209698e+05, 3.86385368e+05, 4.13549539e+05, 4.38372911e+05,\n",
       "        4.60684190e+05, 4.80357678e+05, 4.97313282e+05, 5.11513694e+05,\n",
       "        5.22965373e+05, 5.31824671e+05, 5.38268527e+05, 5.42461974e+05,\n",
       "        5.44558131e+05, 5.44698210e+05, 5.43011515e+05, 5.39615439e+05,\n",
       "        5.34694941e+05, 5.28480866e+05, 5.21123765e+05, 5.12768382e+05,\n",
       "        5.03553856e+05, 4.93613719e+05, 4.83075898e+05, 4.72062719e+05,\n",
       "        4.60681468e+05, 4.49008939e+05, 4.37115183e+05, 4.25068068e+05,\n",
       "        4.12933283e+05, 4.00774330e+05, 3.88652531e+05, 3.76624524e+05,\n",
       "        3.64720520e+05, 3.52961822e+05, 3.41370187e+05, 3.29967046e+05,\n",
       "        3.18773509e+05, 3.07810364e+05, 2.97098072e+05, 2.86651532e+05],\n",
       "       [1.00000000e+00, 9.56064117e-01, 9.19800343e-01, 8.91608933e-01,\n",
       "        8.72045593e-01, 8.61857666e-01, 8.62030521e-01, 8.73829124e-01,\n",
       "        8.98869738e-01, 9.39278150e-01, 9.97737694e-01, 1.07766518e+00,\n",
       "        1.18344854e+00, 1.32108469e+00, 1.49826184e+00, 1.72497391e+00,\n",
       "        2.01406180e+00, 2.38383783e+00, 2.85989619e+00, 3.47520818e+00,\n",
       "        4.27510638e+00, 5.31916792e+00, 6.69879117e+00, 8.54305040e+00,\n",
       "        1.10207792e+01, 1.43706049e+01, 1.89200892e+01, 2.51816755e+01,\n",
       "        3.38714604e+01, 4.59469602e+01, 6.27661013e+01, 8.63132652e+01,\n",
       "        1.19606038e+02, 1.66724952e+02, 2.33413018e+02, 3.27720929e+02,\n",
       "        4.62054699e+02, 6.53951071e+02, 9.27213163e+02, 1.31563562e+03,\n",
       "        1.86907136e+03, 2.65935607e+03, 3.78227394e+03, 5.37186726e+03,\n",
       "        7.61382949e+03, 1.07630547e+04, 1.51455728e+04, 2.11787773e+04,\n",
       "        2.93813291e+04, 4.03410144e+04, 5.47116600e+04, 7.31486574e+04,\n",
       "        9.63144958e+04, 1.24753365e+05, 1.58791714e+05, 1.98538256e+05,\n",
       "        2.43918872e+05, 2.94452122e+05, 3.49350101e+05, 4.07658315e+05,\n",
       "        4.68255688e+05, 5.29856720e+05, 5.91100009e+05, 6.50626667e+05,\n",
       "        7.07238378e+05, 7.59943477e+05, 8.07956950e+05, 8.50676184e+05,\n",
       "        8.87455497e+05, 9.18338286e+05, 9.43557696e+05, 9.63339551e+05,\n",
       "        9.77902356e+05, 9.87457297e+05, 9.92208242e+05, 9.92351737e+05,\n",
       "        9.88342570e+05, 9.80841925e+05, 9.70262929e+05, 9.56998514e+05,\n",
       "        9.41422062e+05, 9.23887408e+05, 9.04728839e+05, 8.84261888e+05,\n",
       "        8.62784646e+05, 8.40502592e+05, 8.17592389e+05, 7.94226631e+05,\n",
       "        7.70573844e+05, 7.46798487e+05, 7.23060954e+05, 6.99509065e+05,\n",
       "        6.76208091e+05, 6.53201326e+05, 6.30535857e+05, 6.08259516e+05,\n",
       "        5.86420880e+05, 5.65069271e+05, 5.44254758e+05, 5.24012308e+05],\n",
       "       [0.00000000e+00, 2.90106218e-04, 1.26045135e-03, 3.08432415e-03,\n",
       "        5.97155229e-03, 1.01816479e-02, 1.60406713e-02, 2.39566948e-02,\n",
       "        3.44487233e-02, 4.82101735e-02, 6.61284844e-02, 8.93584200e-02,\n",
       "        1.19430118e-01, 1.58534317e-01, 2.09558516e-01, 2.76373137e-01,\n",
       "        3.64078531e-01, 4.80281292e-01, 6.35961305e-01, 8.45518739e-01,\n",
       "        1.12922032e+00, 1.51412812e+00, 2.04289816e+00, 2.77669399e+00,\n",
       "        3.79623818e+00, 5.21692140e+00, 7.19851727e+00, 9.99384022e+00,\n",
       "        1.39582444e+01, 1.95688483e+01, 2.75053405e+01, 3.87652790e+01,\n",
       "        5.48715121e+01, 7.78873429e+01, 1.10723118e+02, 1.57463778e+02,\n",
       "        2.24415804e+02, 3.20504260e+02, 4.57859257e+02, 6.53703199e+02,\n",
       "        9.33429343e+02, 1.33366247e+03, 1.90332166e+03, 2.71083519e+03,\n",
       "        3.85036050e+03, 5.45141208e+03, 7.68016710e+03, 1.07497284e+04,\n",
       "        1.49190736e+04, 2.04846258e+04, 2.77803779e+04, 3.71466833e+04,\n",
       "        4.89277556e+04, 6.34342910e+04, 8.09044039e+04, 1.01503627e+05,\n",
       "        1.25337001e+05, 1.52412988e+05, 1.82635179e+05, 2.15822950e+05,\n",
       "        2.51711468e+05, 2.89952779e+05, 3.30133915e+05, 3.71731306e+05,\n",
       "        4.14197432e+05, 4.56990584e+05, 4.99574855e+05, 5.41420799e+05,\n",
       "        5.82019028e+05, 6.20895172e+05, 6.57637855e+05, 6.91904102e+05,\n",
       "        7.23419339e+05, 7.51977396e+05, 7.77440499e+05, 7.99739280e+05,\n",
       "        8.18824083e+05, 8.34709698e+05, 8.47499128e+05, 8.57304519e+05,\n",
       "        8.64247001e+05, 8.68456691e+05, 8.70072692e+05, 8.69244030e+05,\n",
       "        8.66167983e+05, 8.61051166e+05, 8.54081994e+05, 8.45441539e+05,\n",
       "        8.35303528e+05, 8.23834345e+05, 8.11193028e+05, 7.97534163e+05,\n",
       "        7.83011820e+05, 7.67751189e+05, 7.51869052e+05, 7.35476843e+05,\n",
       "        7.18680647e+05, 7.01581195e+05, 6.84273871e+05, 6.66842800e+05],\n",
       "       [1.00000000e+00, 9.55487023e-01, 9.17282670e-01, 8.85431826e-01,\n",
       "        8.60073305e-01, 8.41465389e-01, 8.30016746e-01, 8.26318303e-01,\n",
       "        8.31206680e-01, 8.45898916e-01, 8.72035068e-01, 9.11842744e-01,\n",
       "        9.68389645e-01, 1.04624251e+00, 1.15155002e+00, 1.29272097e+00,\n",
       "        1.48100405e+00, 1.73357163e+00, 2.07560066e+00, 2.54038710e+00,\n",
       "        3.17528565e+00, 4.04396931e+00, 5.24798537e+00, 6.93387514e+00,\n",
       "        9.29575885e+00, 1.26124321e+01, 1.72713243e+01, 2.38883868e+01,\n",
       "        3.33314739e+01, 4.67677481e+01, 6.58630357e+01, 9.30665273e+01,\n",
       "        1.32122398e+02, 1.88107193e+02, 2.68185135e+02, 3.82418906e+02,\n",
       "        5.46338642e+02, 7.81916334e+02, 1.11898695e+03, 1.59990106e+03,\n",
       "        2.28687824e+03, 3.26928877e+03, 4.66601167e+03, 6.64244439e+03,\n",
       "        9.42349394e+03, 1.33121864e+04, 1.86912063e+04, 2.60340281e+04,\n",
       "        3.58988390e+04, 4.88691912e+04, 6.55470981e+04, 8.64694739e+04,\n",
       "        1.12047582e+05, 1.42513048e+05, 1.77844722e+05, 2.17768683e+05,\n",
       "        2.61875130e+05, 3.09450888e+05, 3.59582885e+05, 4.11359337e+05,\n",
       "        4.63869746e+05, 5.16202841e+05, 5.67375458e+05, 6.16477043e+05,\n",
       "        6.62755457e+05, 7.05593566e+05, 7.44509240e+05, 7.79143213e+05,\n",
       "        8.09148569e+05, 8.34552411e+05, 8.55491238e+05, 8.72110733e+05,\n",
       "        8.84565764e+05, 8.93020384e+05, 8.97647832e+05, 8.98630529e+05,\n",
       "        8.96287458e+05, 8.91048052e+05, 8.83222194e+05, 8.73105456e+05,\n",
       "        8.60979409e+05, 8.47111624e+05, 8.31755670e+05, 8.15151846e+05,\n",
       "        7.97538093e+05, 7.79095355e+05, 7.59980524e+05, 7.40344462e+05,\n",
       "        7.20332003e+05, 7.00081948e+05, 6.79727069e+05, 6.59390093e+05,\n",
       "        6.39144778e+05, 6.19043039e+05, 5.99136509e+05, 5.79475731e+05,\n",
       "        5.60110153e+05, 5.41088134e+05, 5.22456939e+05, 5.04252001e+05],\n",
       "       [0.00000000e+00, 8.26299324e-05, 3.81539096e-04, 9.91843061e-04,\n",
       "        2.03888521e-03, 3.69269135e-03, 6.18571932e-03, 9.83089871e-03,\n",
       "        1.50585247e-02, 2.24950051e-02, 3.29878154e-02, 4.77020299e-02,\n",
       "        6.82720896e-02, 9.71961957e-02, 1.37885707e-01, 1.95074295e-01,\n",
       "        2.75166657e-01, 3.88114695e-01, 5.48679768e-01, 7.76502460e-01,\n",
       "        1.09972210e+00, 1.55635548e+00, 2.20747157e+00, 3.14153908e+00,\n",
       "        4.47600843e+00, 6.38000444e+00, 9.08899537e+00, 1.29782049e+01,\n",
       "        1.85769254e+01, 2.65975678e+01, 3.80577567e+01, 5.44546675e+01,\n",
       "        7.80785495e+01, 1.12035640e+02, 1.60711401e+02, 2.30264732e+02,\n",
       "        3.30201261e+02, 4.73971051e+02, 6.79843721e+02, 9.73732552e+02,\n",
       "        1.39364603e+03, 1.99416406e+03, 2.84792115e+03, 4.05576760e+03,\n",
       "        5.75374119e+03, 8.12476563e+03, 1.13996797e+04, 1.58618058e+04,\n",
       "        2.18377333e+04, 2.96638171e+04, 3.96825580e+04, 5.21886214e+04,\n",
       "        6.73906511e+04, 8.53960111e+04, 1.06169528e+05, 1.29533492e+05,\n",
       "        1.55252584e+05, 1.82949247e+05, 2.12142553e+05, 2.42370363e+05,\n",
       "        2.73189326e+05, 3.04173063e+05, 3.34835860e+05, 3.64704822e+05,\n",
       "        3.93383170e+05, 4.20531352e+05, 4.45867038e+05, 4.69160239e+05,\n",
       "        4.90186606e+05, 5.08874344e+05, 5.25207049e+05, 5.39184435e+05,\n",
       "        5.50822334e+05, 5.60152692e+05, 5.67223577e+05, 5.72099172e+05,\n",
       "        5.74901220e+05, 5.75812428e+05, 5.74986485e+05, 5.72571578e+05,\n",
       "        5.68710490e+05, 5.63540595e+05, 5.57193859e+05, 5.49797448e+05,\n",
       "        5.41492053e+05, 5.32400080e+05, 5.22628532e+05, 5.12279488e+05,\n",
       "        5.01450106e+05, 4.90232620e+05, 4.78714344e+05, 4.66977269e+05,\n",
       "        4.55087216e+05, 4.43094412e+05, 4.31046435e+05, 4.18988858e+05,\n",
       "        4.06965259e+05, 3.95017213e+05, 3.83184295e+05, 3.71499109e+05],\n",
       "       [1.00000000e+00, 9.54377824e-01, 9.12633895e-01, 8.74461499e-01,\n",
       "        8.39592365e-01, 8.07796518e-01, 7.78879607e-01, 7.52684451e-01,\n",
       "        7.29094718e-01, 7.08037605e-01, 6.89485328e-01, 6.73465353e-01,\n",
       "        6.60073263e-01, 6.49503303e-01, 6.42052394e-01, 6.38155145e-01,\n",
       "        6.38415606e-01, 6.43754529e-01, 6.55511229e-01, 6.75449080e-01,\n",
       "        7.06043507e-01, 7.50591044e-01, 8.14226960e-01, 9.04263995e-01,\n",
       "        1.03031367e+00, 1.20603341e+00, 1.45024222e+00, 1.79251474e+00,\n",
       "        2.27427508e+00, 2.95100340e+00, 3.90151275e+00, 5.24115703e+00,\n",
       "        7.14561584e+00, 9.85263430e+00, 1.36971644e+01, 1.91488532e+01,\n",
       "        2.69322664e+01, 3.80724744e+01, 5.39626417e+01, 7.65802740e+01,\n",
       "        1.08845651e+02, 1.54977852e+02, 2.20621094e+02, 3.13686393e+02,\n",
       "        4.45129926e+02, 6.30163868e+02, 8.88440623e+02, 1.24553335e+03,\n",
       "        1.73298740e+03, 2.38825607e+03, 3.25487248e+03, 4.37957704e+03,\n",
       "        5.81204290e+03, 7.60029727e+03, 9.78677538e+03, 1.24083204e+04,\n",
       "        1.54938695e+04, 1.90614440e+04, 2.31158780e+04, 2.76468216e+04,\n",
       "        3.26287404e+04, 3.80212001e+04, 4.37750925e+04, 4.98197651e+04,\n",
       "        5.60773717e+04, 6.24694871e+04, 6.89171068e+04, 7.53414730e+04,\n",
       "        8.16722362e+04, 8.78262994e+04, 9.37276080e+04, 9.93140162e+04,\n",
       "        1.04537288e+05, 1.09363094e+05, 1.13771018e+05, 1.17754548e+05,\n",
       "        1.21297778e+05, 1.24382469e+05, 1.27017146e+05, 1.29211960e+05,\n",
       "        1.30978623e+05, 1.32330412e+05, 1.33282167e+05, 1.33850398e+05,\n",
       "        1.34059031e+05, 1.33936895e+05, 1.33510801e+05, 1.32806104e+05,\n",
       "        1.31846700e+05, 1.30655031e+05, 1.29252083e+05, 1.27658272e+05,\n",
       "        1.25897822e+05, 1.23991381e+05, 1.21957783e+05, 1.19814682e+05,\n",
       "        1.17578543e+05, 1.15264650e+05, 1.12887102e+05, 1.10458894e+05],\n",
       "       [0.00000000e+00, 3.32192068e-04, 1.63573551e-03, 4.54242852e-03,\n",
       "        9.97138198e-03, 1.92915551e-02, 3.45189249e-02, 5.85230397e-02,\n",
       "        9.54616820e-02, 1.51702059e-01, 2.36114761e-01, 3.61221462e-01,\n",
       "        5.45032208e-01, 8.15799429e-01, 1.21261137e+00, 1.79036631e+00,\n",
       "        2.62400040e+00, 3.83145350e+00, 5.58908229e+00, 8.13251595e+00,\n",
       "        1.18010189e+01, 1.70544532e+01, 2.46351760e+01, 3.56214144e+01,\n",
       "        5.14466763e+01, 7.41786285e+01, 1.06700850e+02, 1.53614181e+02,\n",
       "        2.21412344e+02, 3.18834970e+02, 4.58375633e+02, 6.58428141e+02,\n",
       "        9.47081631e+02, 1.36239598e+03, 1.95786051e+03, 2.80900429e+03,\n",
       "        4.03136728e+03, 5.78719537e+03, 8.29342415e+03, 1.18597689e+04,\n",
       "        1.69321465e+04, 2.41239400e+04, 3.42132049e+04, 4.82445223e+04,\n",
       "        6.75902981e+04, 9.37537499e+04, 1.28331384e+05, 1.72750762e+05,\n",
       "        2.28065578e+05, 2.94181674e+05, 3.69726735e+05, 4.52343613e+05,\n",
       "        5.38217751e+05, 6.23379682e+05, 7.04530449e+05, 7.79041577e+05,\n",
       "        8.44287170e+05, 8.99375596e+05, 9.44664498e+05, 9.80393971e+05,\n",
       "        1.00668656e+06, 1.02356924e+06, 1.03198450e+06, 1.03326470e+06,\n",
       "        1.02842947e+06, 1.01840095e+06, 1.00400373e+06, 9.85986234e+05,\n",
       "        9.65264423e+05, 9.42308173e+05, 9.17455068e+05, 8.91067148e+05,\n",
       "        8.63530909e+05, 8.35257305e+05, 8.06681748e+05, 7.78264106e+05,\n",
       "        7.50240178e+05, 7.22523685e+05, 6.95174383e+05, 6.68262271e+05,\n",
       "        6.41867074e+05, 6.16078246e+05, 5.90994969e+05, 5.66723616e+05,\n",
       "        5.43263317e+05, 5.20572303e+05, 4.98640106e+05, 4.77460416e+05,\n",
       "        4.57031083e+05, 4.37354116e+05, 4.18435683e+05, 4.00280134e+05,\n",
       "        3.82852256e+05, 3.66122629e+05, 3.50067414e+05, 3.34664973e+05,\n",
       "        3.19895879e+05, 3.05742912e+05, 2.92191056e+05, 2.79223014e+05],\n",
       "       [0.00000000e+00, 2.09122934e-04, 9.12182260e-04, 2.24039592e-03,\n",
       "        4.35258206e-03, 7.44457352e-03, 1.17613445e-02, 1.76079992e-02,\n",
       "        2.53699986e-02, 3.55577234e-02, 4.88201835e-02, 6.59959797e-02,\n",
       "        8.81873975e-02, 1.16956636e-01, 1.54350754e-01, 2.03097184e-01,\n",
       "        2.66772951e-01, 3.50671348e-01, 4.62391995e-01, 6.11872680e-01,\n",
       "        8.13048118e-01, 1.08447922e+00, 1.45530323e+00, 1.96720570e+00,\n",
       "        2.67513075e+00, 3.65749173e+00, 5.02272736e+00, 6.94214979e+00,\n",
       "        9.65635906e+00, 1.34882164e+01, 1.88973710e+01, 2.65580124e+01,\n",
       "        3.74988073e+01, 5.31131322e+01, 7.53658773e+01, 1.07013978e+02,\n",
       "        1.52312434e+02, 2.17282189e+02, 3.10105912e+02, 4.42396205e+02,\n",
       "        6.31266987e+02, 9.01400342e+02, 1.28576485e+03, 1.83043420e+03,\n",
       "        2.59870633e+03, 3.67764316e+03, 5.17892911e+03, 7.24537297e+03,\n",
       "        1.00504623e+04, 1.37926282e+04, 1.86952470e+04, 2.49869221e+04,\n",
       "        3.28982475e+04, 4.26386412e+04, 5.43723214e+04, 6.82183072e+04,\n",
       "        8.42568406e+04, 1.02500232e+05, 1.22887089e+05, 1.45296091e+05,\n",
       "        1.69545998e+05, 1.95396213e+05, 2.22549793e+05, 2.50625008e+05,\n",
       "        2.79224277e+05, 3.07953481e+05, 3.36421969e+05, 3.64242637e+05,\n",
       "        3.91042494e+05, 4.16492975e+05, 4.40315794e+05, 4.62282541e+05,\n",
       "        4.82214687e+05, 4.99983578e+05, 5.15510440e+05, 5.28766377e+05,\n",
       "        5.39745619e+05, 5.48494849e+05, 5.55114207e+05, 5.59707291e+05,\n",
       "        5.62381067e+05, 5.63245866e+05, 5.62415386e+05, 5.60007512e+05,\n",
       "        5.56174948e+05, 5.51068340e+05, 5.44821613e+05, 5.37563034e+05,\n",
       "        5.29415212e+05, 5.20495098e+05, 5.10913985e+05, 5.00778894e+05,\n",
       "        4.90189928e+05, 4.79225242e+05, 4.67957891e+05, 4.56457778e+05,\n",
       "        4.44791651e+05, 4.33023103e+05, 4.21212575e+05, 4.09411894e+05]])"
      ]
     },
     "execution_count": 19,
     "metadata": {},
     "output_type": "execute_result"
    }
   ],
   "source": [
    "infectados = ynor[[5*i + 2 for i in range(8)]]\n",
    "infectados"
   ]
  },
  {
   "cell_type": "code",
   "execution_count": 18,
   "id": "1fe812c5",
   "metadata": {},
   "outputs": [
    {
     "data": {
      "image/png": "[encoded data removed]",
      "text/plain": [
       "<Figure size 432x288 with 1 Axes>"
      ]
     },
     "metadata": {
      "needs_background": "light"
     },
     "output_type": "display_data"
    }
   ],
   "source": [
    "fig, ax = plt.subplots()\n",
    "\n",
    "for i, _ in enumerate(infectados):\n",
    "    ax.plot(_/modelo.poblaciones[i], label = 'region {}'.format(i+1))\n",
    "\n",
    "plt.legend()\n",
    "plt.show()"
   ]
  },
  {
   "cell_type": "code",
   "execution_count": null,
   "id": "4ebfe430",
   "metadata": {},
   "outputs": [],
   "source": []
  }
 ],
 "metadata": {
  "kernelspec": {
   "display_name": "Python 3 (ipykernel)",
   "language": "python",
   "name": "python3"
  },
  "language_info": {
   "codemirror_mode": {
    "name": "ipython",
    "version": 3
   },
   "file_extension": ".py",
   "mimetype": "text/x-python",
   "name": "python",
   "nbconvert_exporter": "python",
   "pygments_lexer": "ipython3",
   "version": "3.8.3"
  }
 },
 "nbformat": 4,
 "nbformat_minor": 5
}
