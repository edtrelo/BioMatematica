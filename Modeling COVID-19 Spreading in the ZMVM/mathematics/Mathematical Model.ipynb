{
 "cells": [
  {
   "attachments": {},
   "cell_type": "markdown",
   "metadata": {},
   "source": [
    "## Variables\n",
    "\n",
    "Definimos las variables que vamos a usar:\n",
    "\n",
    "- $\\beta>0$: tasa de infección\n",
    "- $r$: número de contactos entre suceptibles e infectados (por día)\n",
    "- $\\eta$: tasa de incubación (por día)\n",
    "- $\\gamma$: tasa de recuperación\n",
    "- $\\mu$: tasa de mortalidad\n",
    "- $f:$ proporción de Infectados diagnoticados en aislamiento parcial (salen de su casa).\n",
    "\n",
    "Estas son unas variables generales. Para el modelo de redes necesitamos además:\n",
    "\n",
    "- $C_i$: ciudad $i$\n",
    "- $n_{jk}$: personas que viajan de la ciudad $i$ a la ciudad $k$\n",
    "- $N_i$: personas viviendo en la ciudad $i$\n",
    "- $\\hat{N_i}$: personas trabajando en la ciudad $i$\n",
    "- $r_k$: número de contactos esperados en la ciudad $k$\n",
    "- $\\nu$: fracción del tiempo que se pasa en la ciudad de trabajo."
   ]
  },
  {
   "attachments": {},
   "cell_type": "markdown",
   "metadata": {},
   "source": [
    "## Relaciones"
   ]
  },
  {
   "attachments": {},
   "cell_type": "markdown",
   "metadata": {},
   "source": [
    "En Calvetti, Hoover, Rose y Somersalo nos presentan esta ecuación para modelar las interacciones epidemiológicas entre $n$ ciudades distintas:"
   ]
  },
  {
   "attachments": {},
   "cell_type": "markdown",
   "metadata": {},
   "source": [
    "$$\\frac{dS_i}{dt} = -\\beta \\nu \\sum_{k=1}^n \\left(\\frac{n_{ik}}{N_i}\\ S_ir_k \\sum_{m = 1}^n \\frac{E_m + fI_m}{N_m}\\frac{n_{mk}}{\\hat{N_k}}\\right) - \\beta(1-\\nu)S_ir_i\\frac{E_i + fI_i}{N_i}$$"
   ]
  },
  {
   "attachments": {},
   "cell_type": "markdown",
   "metadata": {},
   "source": [
    "La primera parte de la ecuación representa infecciones fuera de $i$:"
   ]
  },
  {
   "attachments": {},
   "cell_type": "markdown",
   "metadata": {},
   "source": [
    "$$r_k\\left(\\frac{n_{ik}}{N_i}S_i\\right)\\left(\\frac{E_m + fI_m}{N_m}\\frac{n_{m1}}{\\hat{N_1}}\\right)$$"
   ]
  },
  {
   "attachments": {},
   "cell_type": "markdown",
   "metadata": {},
   "source": [
    "Para los habitantes de $i$, los suceptibles pueden infectarse en cualquier ciudad $k$. $\\frac{n_{ik}}{N_i}S_i$ representa a la proporción de suceptibles de la ciudad $i$ que viajan a la ciudad $k$.\n",
    "\n",
    " Ya en la ciudad $k$, para cada uno de estos viajeros de la ciudad $i$, puede haber gente infecciosa viajera $(E+fI)_m$ de alguna ciudad $m$. La cantidad $\\frac{E_m + fI_m}{N_m}$ representa a la proporción de infecciosos de la ciudad $m$. Además, $\\frac{n_{mk}}{\\hat{N_k}}$ es la proporción de la gente que viaja a la ciudad $k$ desde $m$ respecto a toda la gente que llega a $k$. Por cada ciudad $m$:\n",
    "\n",
    " $$\\frac{E_m + fI_m}{N_m}\\frac{n_{m1}}{\\hat{N_1}}$$\n",
    "\n",
    " es la proporción de gente de $m$ que podría infectar a alguien en la ciudad $k$. De donde:\n",
    "\n",
    " $$\\left(\\frac{n_{ik}}{N_i}S_i\\right)\\left(\\frac{E_m + fI_m}{N_m}\\frac{n_{m1}}{\\hat{N_1}}\\right)$$\n",
    "\n",
    " "
   ]
  },
  {
   "attachments": {},
   "cell_type": "markdown",
   "metadata": {},
   "source": [
    "es la proporción de gente de suceptible de $i$ que se topa gente de $m$ en $k$. Al multiplicarlo por $r_k$ obtenemos la proporción de todos los contactos en $r_k$ que suceden por gente involucrando este par de ciudades. Tomando en cuenta que la gente puede llegar a $m$ de cualquiera de las $n$ ciudades, y además la gente de $i$ también puede ir a $i$ ciudades distintas, llegamos a la suma del primer término. Estos contactos suceden en una proporción $\\nu$ del tiempo, que es la cantidad de tiempo que la gente de $i$ pasa fuera de $i$ y estos contactos resultan en una infección $\\beta\\%$ por ciento de las veces. "
   ]
  },
  {
   "attachments": {},
   "cell_type": "markdown",
   "metadata": {},
   "source": [
    "El segundo término se enfoca en las infecciones que suceden dentro de $i$ con la misma gente de $i$: la cantidad $S_i(E_i + fI_i)$ son los contactos entre los suceptibles de $i$ y los infecciosos de $i$. Al dividirlo entre $N_i$ obtenemos la proporción de contactos respecto a la población total. Al multiplicarlo por $r_i$ tenemos los la proporción de contactos en $i$ que suceden por esta combinación. Además, esto sucede el $(1-\\nu)\\%$ del tiempo y solo $\\beta$ por ciento de estos contactos son infecciones nuevas."
   ]
  },
  {
   "attachments": {},
   "cell_type": "markdown",
   "metadata": {},
   "source": [
    "El flujo en el resto de los compartimientos no tiene que ver con las interacciones de ciudades (claro, a excepción de los *Expuestos* cuyo flujo positivo es precisamente la salida de los *Suceptibles* de tal categoría). Obtenemos el siguiente sistema de ecuaciones:"
   ]
  },
  {
   "attachments": {},
   "cell_type": "markdown",
   "metadata": {},
   "source": [
    "$$\n",
    "\\begin{cases}\n",
    "\\displaystyle\\frac{dS_i}{dt} =& -\\beta \\nu \\displaystyle\\sum_{k=1}^n \\left(\\frac{n_{ik}}{N_i}\\ S_ir_k \\sum_{m = 1}^n \\frac{E_m + fI_m}{N_m}\\frac{n_{mk}}{\\hat{N_k}}\\right) - \\beta(1-\\nu)S_ir_i\\frac{E_i + fI_i}{N_i}\\\\\\\\\n",
    "\n",
    "\\displaystyle\\frac{dE_i}{dt} =& \\beta \\nu \\displaystyle\\sum_{k=1}^n \\left(\\frac{n_{ik}}{N_i}\\ S_ir_k \\sum_{m = 1}^n \\frac{E_m + fI_m}{N_m}\\frac{n_{mk}}{\\hat{N_k}}\\right) + \\beta(1-\\nu)S_ir_i\\frac{E_i + fI_i}{N_i}  - \\eta E_i - \\gamma E_i\\\\\\\\\n",
    "\n",
    "\\displaystyle\\frac{dI_i}{dt} =& \\eta E_i  - \\gamma I_i - \\mu I_i\\\\\\\\\n",
    "\n",
    "\\displaystyle\\frac{dR_i}{dt} =& \\gamma I_i + \\gamma E_i\n",
    "\\end{cases}$$\n",
    "\n"
   ]
  },
  {
   "attachments": {},
   "cell_type": "markdown",
   "metadata": {},
   "source": [
    "Con condiciones iniciales $S_i(0) = S_0,\\ E_i(0) = E_0,\\ I_i(0) = R_i(0) = 0$, aunque a diferencia de otros modelos, la población no se mantiene constante."
   ]
  },
  {
   "cell_type": "markdown",
   "metadata": {},
   "source": []
  }
 ],
 "metadata": {
  "language_info": {
   "name": "python"
  },
  "orig_nbformat": 4
 },
 "nbformat": 4,
 "nbformat_minor": 2
}
