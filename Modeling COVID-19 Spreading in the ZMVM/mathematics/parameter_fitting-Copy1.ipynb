{
 "cells": [
  {
   "cell_type": "markdown",
   "id": "f65c4e13",
   "metadata": {},
   "source": [
    "## Ajuste de los parámetros del modelo a datos reales de defunciones"
   ]
  },
  {
   "cell_type": "code",
   "execution_count": 1,
   "id": "3d2b587d",
   "metadata": {},
   "outputs": [],
   "source": [
    "import pandas as pd\n",
    "import numpy as np\n",
    "import matplotlib.pyplot as plt\n",
    "import pickle \n",
    "plt.rcParams[\"font.family\"] = \"Tahoma\""
   ]
  },
  {
   "cell_type": "code",
   "execution_count": 2,
   "id": "937aed24",
   "metadata": {},
   "outputs": [],
   "source": [
    "from model import SEIRDmodel"
   ]
  },
  {
   "cell_type": "markdown",
   "id": "3f26f90c",
   "metadata": {},
   "source": [
    "Cargamos los datos que queremos usar (totales, por entidad, cdmx):"
   ]
  },
  {
   "cell_type": "code",
   "execution_count": 3,
   "id": "1000afa4",
   "metadata": {},
   "outputs": [],
   "source": [
    "modelo = SEIRDmodel()"
   ]
  },
  {
   "cell_type": "markdown",
   "id": "754ddfeb",
   "metadata": {},
   "source": [
    "La siguiente línea de código es la que debería correrse para realizar el ajuste."
   ]
  },
  {
   "cell_type": "code",
   "execution_count": 4,
   "id": "331a6743",
   "metadata": {},
   "outputs": [],
   "source": [
    "ajuste = modelo.ajustar()"
   ]
  },
  {
   "cell_type": "code",
   "execution_count": 8,
   "id": "9b34d2c7",
   "metadata": {},
   "outputs": [
    {
     "data": {
      "text/plain": [
       "array([5.05881276e-05, 5.88852510e-01, 6.24829554e-01, 4.94209617e-01,\n",
       "       5.56760687e-01, 5.28613825e-01, 3.76053134e-01, 7.75110748e-01,\n",
       "       4.94360700e-01])"
      ]
     },
     "execution_count": 8,
     "metadata": {},
     "output_type": "execute_result"
    }
   ],
   "source": [
    "ajuste"
   ]
  },
  {
   "cell_type": "code",
   "execution_count": 7,
   "id": "7ac7f5c9",
   "metadata": {},
   "outputs": [],
   "source": [
    "ajusteviejito=[4.95362908e-05, 6.06378777e-01, 6.40494148e-01, 5.01421018e-01,\n",
    "       5.71231191e-01, 5.39650426e-01, 3.83002971e-01, 8.18228026e-01,\n",
    "       5.02468014e-01]"
   ]
  },
  {
   "cell_type": "code",
   "execution_count": 17,
   "id": "cc24eaba",
   "metadata": {},
   "outputs": [],
   "source": [
    "with open('D:/Edgar Trejo/Universidad/BioMatematica/Modeling COVID-19 Spreading in the ZMVM/results/ajuste8regiones.pkl', 'wb') as handle:\n",
    "    pickle.dump(ajusteviejito, handle, protocol=pickle.HIGHEST_PROTOCOL)"
   ]
  },
  {
   "cell_type": "code",
   "execution_count": 10,
   "id": "ba759589",
   "metadata": {},
   "outputs": [],
   "source": [
    "ynor = modelo.simular()"
   ]
  },
  {
   "cell_type": "code",
   "execution_count": 11,
   "id": "9e8fbbaa",
   "metadata": {},
   "outputs": [],
   "source": [
    "defunciones = ynor[[5*i + 4 for i in range(8)]]"
   ]
  },
  {
   "cell_type": "code",
   "execution_count": 12,
   "id": "b2db5dbc",
   "metadata": {},
   "outputs": [],
   "source": [
    "casos = pd.read_csv(\"https://raw.githubusercontent.com/edtrelo/BioMatematica/main/Modeling%20COVID-19%20Spreading%20in%20the%20ZMVM/data/cleandata/datos_epi/defunciones_reg.csv\",\n",
    "                   index_col = 0)"
   ]
  },
  {
   "cell_type": "code",
   "execution_count": 13,
   "id": "ea688772",
   "metadata": {},
   "outputs": [
    {
     "data": {
      "text/html": [
       "<div>\n",
       "<style scoped>\n",
       "    .dataframe tbody tr th:only-of-type {\n",
       "        vertical-align: middle;\n",
       "    }\n",
       "\n",
       "    .dataframe tbody tr th {\n",
       "        vertical-align: top;\n",
       "    }\n",
       "\n",
       "    .dataframe thead th {\n",
       "        text-align: right;\n",
       "    }\n",
       "</style>\n",
       "<table border=\"1\" class=\"dataframe\">\n",
       "  <thead>\n",
       "    <tr style=\"text-align: right;\">\n",
       "      <th></th>\n",
       "      <th>17-03-2020</th>\n",
       "      <th>18-03-2020</th>\n",
       "      <th>19-03-2020</th>\n",
       "      <th>20-03-2020</th>\n",
       "      <th>21-03-2020</th>\n",
       "      <th>22-03-2020</th>\n",
       "      <th>23-03-2020</th>\n",
       "      <th>24-03-2020</th>\n",
       "      <th>25-03-2020</th>\n",
       "      <th>26-03-2020</th>\n",
       "      <th>...</th>\n",
       "      <th>16-02-2023</th>\n",
       "      <th>17-02-2023</th>\n",
       "      <th>18-02-2023</th>\n",
       "      <th>19-02-2023</th>\n",
       "      <th>20-02-2023</th>\n",
       "      <th>21-02-2023</th>\n",
       "      <th>22-02-2023</th>\n",
       "      <th>23-02-2023</th>\n",
       "      <th>24-02-2023</th>\n",
       "      <th>25-02-2023</th>\n",
       "    </tr>\n",
       "    <tr>\n",
       "      <th>region</th>\n",
       "      <th></th>\n",
       "      <th></th>\n",
       "      <th></th>\n",
       "      <th></th>\n",
       "      <th></th>\n",
       "      <th></th>\n",
       "      <th></th>\n",
       "      <th></th>\n",
       "      <th></th>\n",
       "      <th></th>\n",
       "      <th></th>\n",
       "      <th></th>\n",
       "      <th></th>\n",
       "      <th></th>\n",
       "      <th></th>\n",
       "      <th></th>\n",
       "      <th></th>\n",
       "      <th></th>\n",
       "      <th></th>\n",
       "      <th></th>\n",
       "      <th></th>\n",
       "    </tr>\n",
       "  </thead>\n",
       "  <tbody>\n",
       "    <tr>\n",
       "      <th>1</th>\n",
       "      <td>0</td>\n",
       "      <td>0</td>\n",
       "      <td>0</td>\n",
       "      <td>0</td>\n",
       "      <td>0</td>\n",
       "      <td>0</td>\n",
       "      <td>1</td>\n",
       "      <td>0</td>\n",
       "      <td>0</td>\n",
       "      <td>0</td>\n",
       "      <td>...</td>\n",
       "      <td>0</td>\n",
       "      <td>2</td>\n",
       "      <td>0</td>\n",
       "      <td>1</td>\n",
       "      <td>1</td>\n",
       "      <td>0</td>\n",
       "      <td>0</td>\n",
       "      <td>0</td>\n",
       "      <td>0</td>\n",
       "      <td>0</td>\n",
       "    </tr>\n",
       "    <tr>\n",
       "      <th>2</th>\n",
       "      <td>0</td>\n",
       "      <td>0</td>\n",
       "      <td>0</td>\n",
       "      <td>0</td>\n",
       "      <td>0</td>\n",
       "      <td>0</td>\n",
       "      <td>0</td>\n",
       "      <td>0</td>\n",
       "      <td>0</td>\n",
       "      <td>0</td>\n",
       "      <td>...</td>\n",
       "      <td>1</td>\n",
       "      <td>4</td>\n",
       "      <td>1</td>\n",
       "      <td>2</td>\n",
       "      <td>0</td>\n",
       "      <td>0</td>\n",
       "      <td>0</td>\n",
       "      <td>1</td>\n",
       "      <td>0</td>\n",
       "      <td>1</td>\n",
       "    </tr>\n",
       "    <tr>\n",
       "      <th>3</th>\n",
       "      <td>0</td>\n",
       "      <td>0</td>\n",
       "      <td>0</td>\n",
       "      <td>0</td>\n",
       "      <td>0</td>\n",
       "      <td>0</td>\n",
       "      <td>0</td>\n",
       "      <td>0</td>\n",
       "      <td>1</td>\n",
       "      <td>1</td>\n",
       "      <td>...</td>\n",
       "      <td>0</td>\n",
       "      <td>1</td>\n",
       "      <td>1</td>\n",
       "      <td>0</td>\n",
       "      <td>1</td>\n",
       "      <td>1</td>\n",
       "      <td>0</td>\n",
       "      <td>0</td>\n",
       "      <td>0</td>\n",
       "      <td>0</td>\n",
       "    </tr>\n",
       "    <tr>\n",
       "      <th>4</th>\n",
       "      <td>0</td>\n",
       "      <td>1</td>\n",
       "      <td>0</td>\n",
       "      <td>0</td>\n",
       "      <td>0</td>\n",
       "      <td>0</td>\n",
       "      <td>0</td>\n",
       "      <td>0</td>\n",
       "      <td>0</td>\n",
       "      <td>0</td>\n",
       "      <td>...</td>\n",
       "      <td>0</td>\n",
       "      <td>0</td>\n",
       "      <td>0</td>\n",
       "      <td>0</td>\n",
       "      <td>0</td>\n",
       "      <td>0</td>\n",
       "      <td>0</td>\n",
       "      <td>0</td>\n",
       "      <td>0</td>\n",
       "      <td>0</td>\n",
       "    </tr>\n",
       "    <tr>\n",
       "      <th>5</th>\n",
       "      <td>0</td>\n",
       "      <td>0</td>\n",
       "      <td>0</td>\n",
       "      <td>0</td>\n",
       "      <td>0</td>\n",
       "      <td>1</td>\n",
       "      <td>0</td>\n",
       "      <td>0</td>\n",
       "      <td>0</td>\n",
       "      <td>1</td>\n",
       "      <td>...</td>\n",
       "      <td>0</td>\n",
       "      <td>1</td>\n",
       "      <td>1</td>\n",
       "      <td>1</td>\n",
       "      <td>0</td>\n",
       "      <td>1</td>\n",
       "      <td>0</td>\n",
       "      <td>0</td>\n",
       "      <td>1</td>\n",
       "      <td>0</td>\n",
       "    </tr>\n",
       "    <tr>\n",
       "      <th>6</th>\n",
       "      <td>0</td>\n",
       "      <td>0</td>\n",
       "      <td>0</td>\n",
       "      <td>0</td>\n",
       "      <td>0</td>\n",
       "      <td>0</td>\n",
       "      <td>0</td>\n",
       "      <td>0</td>\n",
       "      <td>0</td>\n",
       "      <td>0</td>\n",
       "      <td>...</td>\n",
       "      <td>0</td>\n",
       "      <td>0</td>\n",
       "      <td>0</td>\n",
       "      <td>0</td>\n",
       "      <td>0</td>\n",
       "      <td>0</td>\n",
       "      <td>0</td>\n",
       "      <td>0</td>\n",
       "      <td>0</td>\n",
       "      <td>0</td>\n",
       "    </tr>\n",
       "    <tr>\n",
       "      <th>7</th>\n",
       "      <td>0</td>\n",
       "      <td>0</td>\n",
       "      <td>0</td>\n",
       "      <td>0</td>\n",
       "      <td>0</td>\n",
       "      <td>0</td>\n",
       "      <td>0</td>\n",
       "      <td>0</td>\n",
       "      <td>0</td>\n",
       "      <td>1</td>\n",
       "      <td>...</td>\n",
       "      <td>1</td>\n",
       "      <td>0</td>\n",
       "      <td>0</td>\n",
       "      <td>0</td>\n",
       "      <td>0</td>\n",
       "      <td>0</td>\n",
       "      <td>0</td>\n",
       "      <td>1</td>\n",
       "      <td>0</td>\n",
       "      <td>0</td>\n",
       "    </tr>\n",
       "    <tr>\n",
       "      <th>8</th>\n",
       "      <td>0</td>\n",
       "      <td>0</td>\n",
       "      <td>0</td>\n",
       "      <td>0</td>\n",
       "      <td>0</td>\n",
       "      <td>0</td>\n",
       "      <td>0</td>\n",
       "      <td>0</td>\n",
       "      <td>0</td>\n",
       "      <td>0</td>\n",
       "      <td>...</td>\n",
       "      <td>0</td>\n",
       "      <td>1</td>\n",
       "      <td>1</td>\n",
       "      <td>0</td>\n",
       "      <td>0</td>\n",
       "      <td>0</td>\n",
       "      <td>1</td>\n",
       "      <td>0</td>\n",
       "      <td>0</td>\n",
       "      <td>0</td>\n",
       "    </tr>\n",
       "  </tbody>\n",
       "</table>\n",
       "<p>8 rows × 1076 columns</p>\n",
       "</div>"
      ],
      "text/plain": [
       "        17-03-2020  18-03-2020  19-03-2020  20-03-2020  21-03-2020  \\\n",
       "region                                                               \n",
       "1                0           0           0           0           0   \n",
       "2                0           0           0           0           0   \n",
       "3                0           0           0           0           0   \n",
       "4                0           1           0           0           0   \n",
       "5                0           0           0           0           0   \n",
       "6                0           0           0           0           0   \n",
       "7                0           0           0           0           0   \n",
       "8                0           0           0           0           0   \n",
       "\n",
       "        22-03-2020  23-03-2020  24-03-2020  25-03-2020  26-03-2020  ...  \\\n",
       "region                                                              ...   \n",
       "1                0           1           0           0           0  ...   \n",
       "2                0           0           0           0           0  ...   \n",
       "3                0           0           0           1           1  ...   \n",
       "4                0           0           0           0           0  ...   \n",
       "5                1           0           0           0           1  ...   \n",
       "6                0           0           0           0           0  ...   \n",
       "7                0           0           0           0           1  ...   \n",
       "8                0           0           0           0           0  ...   \n",
       "\n",
       "        16-02-2023  17-02-2023  18-02-2023  19-02-2023  20-02-2023  \\\n",
       "region                                                               \n",
       "1                0           2           0           1           1   \n",
       "2                1           4           1           2           0   \n",
       "3                0           1           1           0           1   \n",
       "4                0           0           0           0           0   \n",
       "5                0           1           1           1           0   \n",
       "6                0           0           0           0           0   \n",
       "7                1           0           0           0           0   \n",
       "8                0           1           1           0           0   \n",
       "\n",
       "        21-02-2023  22-02-2023  23-02-2023  24-02-2023  25-02-2023  \n",
       "region                                                              \n",
       "1                0           0           0           0           0  \n",
       "2                0           0           1           0           1  \n",
       "3                1           0           0           0           0  \n",
       "4                0           0           0           0           0  \n",
       "5                1           0           0           1           0  \n",
       "6                0           0           0           0           0  \n",
       "7                0           0           1           0           0  \n",
       "8                0           1           0           0           0  \n",
       "\n",
       "[8 rows x 1076 columns]"
      ]
     },
     "execution_count": 13,
     "metadata": {},
     "output_type": "execute_result"
    }
   ],
   "source": [
    "casos"
   ]
  },
  {
   "cell_type": "code",
   "execution_count": 14,
   "id": "6d3389ec",
   "metadata": {},
   "outputs": [],
   "source": [
    "acumcasos = casos.cumsum(axis = 1)"
   ]
  },
  {
   "cell_type": "code",
   "execution_count": 15,
   "id": "cbd7968f",
   "metadata": {},
   "outputs": [
    {
     "ename": "NameError",
     "evalue": "name 'i' is not defined",
     "output_type": "error",
     "traceback": [
      "\u001b[1;31m---------------------------------------------------------------------------\u001b[0m",
      "\u001b[1;31mNameError\u001b[0m                                 Traceback (most recent call last)",
      "Input \u001b[1;32mIn [15]\u001b[0m, in \u001b[0;36m<cell line: 1>\u001b[1;34m()\u001b[0m\n\u001b[1;32m----> 1\u001b[0m acumcasos\u001b[38;5;241m.\u001b[39miloc[\u001b[43mi\u001b[49m, \u001b[38;5;241m0\u001b[39m:\u001b[38;5;241m74\u001b[39m]\n",
      "\u001b[1;31mNameError\u001b[0m: name 'i' is not defined"
     ]
    }
   ],
   "source": [
    "acumcasos.iloc[i, 0:74]"
   ]
  },
  {
   "cell_type": "code",
   "execution_count": 16,
   "id": "1fe812c5",
   "metadata": {},
   "outputs": [
    {
     "data": {
      "image/png": "[encoded data removed]",
      "text/plain": [
       "<Figure size 1008x576 with 1 Axes>"
      ]
     },
     "metadata": {
      "needs_background": "light"
     },
     "output_type": "display_data"
    }
   ],
   "source": [
    "fig, ax = plt.subplots()\n",
    "\n",
    "solid = ['#76EEC6', '#FF83FA', '#528B8B', '#FFB6C1', '#FF8247', '#00E5EE', '#AB82FF', '#C6E2FF']\n",
    "dots = ['#458B74', '#CD69C9', '#528B8B', '#CD8C95', '#CD6839', '#00868B', '#5D478B', '#6C7B8B']\n",
    "\n",
    "tsolid = np.linspace(0, 94, 95)\n",
    "tdots = np.linspace(20, 94, 75)\n",
    "\n",
    "for i, _ in enumerate(defunciones):\n",
    "    ax.plot(tsolid, _, label = 'I(t) en Region {}'.format(i+1), \n",
    "            linewidth = 3, color = solid[i])\n",
    "\n",
    "for i in range(8):\n",
    "    ax.scatter(tdots, acumcasos.iloc[i, 0:75], color = dots[i], label = 'casos reales Region {}'.format(i+1),\n",
    "              marker = '+', )\n",
    "\n",
    "ax.set_xlabel('\\nDías desde el inicio del brote', fontsize = 17)\n",
    "ax.set_ylabel('Casos Acumulados de Defunciones\\n', fontsize = 17)\n",
    "ax.spines[['right', 'top']].set_visible(False)\n",
    "ax.grid(axis = 'y')\n",
    "ax.tick_params(axis='both', labelsize=15)\n",
    "ax.set_xlim(1)\n",
    "ax.set_ylim(1)\n",
    "fig.set_size_inches(14, 8)\n",
    "plt.show()"
   ]
  },
  {
   "cell_type": "code",
   "execution_count": null,
   "id": "4ebfe430",
   "metadata": {},
   "outputs": [],
   "source": []
  }
 ],
 "metadata": {
  "kernelspec": {
   "display_name": "Python 3 (ipykernel)",
   "language": "python",
   "name": "python3"
  },
  "language_info": {
   "codemirror_mode": {
    "name": "ipython",
    "version": 3
   },
   "file_extension": ".py",
   "mimetype": "text/x-python",
   "name": "python",
   "nbconvert_exporter": "python",
   "pygments_lexer": "ipython3",
   "version": "3.8.3"
  }
 },
 "nbformat": 4,
 "nbformat_minor": 5
}
