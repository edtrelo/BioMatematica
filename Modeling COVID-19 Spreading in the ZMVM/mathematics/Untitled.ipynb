{
 "cells": [
  {
   "cell_type": "code",
   "execution_count": 1,
   "id": "7ea3b1c1",
   "metadata": {},
   "outputs": [],
   "source": [
    "using DifferentialEquations, Random, Plots"
   ]
  },
  {
   "cell_type": "code",
   "execution_count": null,
   "id": "0d62f3b1",
   "metadata": {},
   "outputs": [
    {
     "name": "stderr",
     "output_type": "stream",
     "text": [
      "\u001b[36m\u001b[1m[ \u001b[22m\u001b[39m\u001b[36m\u001b[1mInfo: \u001b[22m\u001b[39mPrecompiling DiffEqParamEstim [1130ab10-4a5a-5621-a13d-e4788d82bd4c]\n"
     ]
    }
   ],
   "source": [
    "using DiffEqParamEstim, Optim"
   ]
  },
  {
   "cell_type": "code",
   "execution_count": null,
   "id": "dc68c28d",
   "metadata": {},
   "outputs": [],
   "source": []
  }
 ],
 "metadata": {
  "kernelspec": {
   "display_name": "Julia 1.6.2",
   "language": "julia",
   "name": "julia-1.6"
  },
  "language_info": {
   "file_extension": ".jl",
   "mimetype": "application/julia",
   "name": "julia",
   "version": "1.6.2"
  }
 },
 "nbformat": 4,
 "nbformat_minor": 5
}
